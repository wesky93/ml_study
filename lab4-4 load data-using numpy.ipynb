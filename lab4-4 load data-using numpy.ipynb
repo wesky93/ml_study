{
 "cells": [
  {
   "cell_type": "markdown",
   "metadata": {},
   "source": [
    "# load data using numpy\n",
    "numpy를 이용하여 텍스트 파일에서 데이터를 불러오기\n",
    "$$H(x)=\\begin{bmatrix} b & { w }_{ 1 } & { w }_{ 2 } \\end{bmatrix}\\times \\begin{bmatrix} 1 \\\\ { x }_{ 1 } \\\\ { x }_{ 2 } \\end{bmatrix}={ w }_{ 1 }{ x }_{ 1 }+{ w }_{ 2 }{ x }_{ 2 }+b$$\n",
    "---\n",
    "\n",
    "### 1. 텍스트에서 데이터 불러오기"
   ]
  },
  {
   "cell_type": "code",
   "execution_count": 10,
   "metadata": {
    "collapsed": true
   },
   "outputs": [],
   "source": [
    "import tensorflow as tf\n",
    "import numpy as np"
   ]
  },
  {
   "cell_type": "code",
   "execution_count": 11,
   "metadata": {
    "collapsed": false
   },
   "outputs": [
    {
     "name": "stdout",
     "output_type": "stream",
     "text": [
      "x 3 [[ 1.  1.  1.  1.  1.]\n",
      " [ 1.  0.  3.  0.  5.]\n",
      " [ 0.  2.  0.  4.  0.]]\n",
      "y [ 1.  2.  3.  4.  5.]\n"
     ]
    }
   ],
   "source": [
    "xy = np.loadtxt('lab4_data.txt',unpack=True,dtype='float32')\n",
    "\n",
    "x_data = xy[0:-1]\n",
    "y_data = xy[-1]\n",
    "print('x',len(x_data),x_data)\n",
    "print('y',y_data)"
   ]
  },
  {
   "cell_type": "markdown",
   "metadata": {},
   "source": [
    "### 2. variable"
   ]
  },
  {
   "cell_type": "code",
   "execution_count": 12,
   "metadata": {
    "collapsed": true
   },
   "outputs": [],
   "source": [
    "W = tf.Variable(tf.random_uniform([1,len(x_data)],-5.0,5.0))"
   ]
  },
  {
   "cell_type": "markdown",
   "metadata": {},
   "source": [
    "### 3. Hypothesis\n",
    "$$H(x)=\\begin{bmatrix} b & { w }_{ 1 } & { w }_{ 2 } \\end{bmatrix}\\times \\begin{bmatrix} 1 \\\\ { x }_{ 1 } \\\\ { x }_{ 2 } \\end{bmatrix}$$\n"
   ]
  },
  {
   "cell_type": "code",
   "execution_count": 13,
   "metadata": {
    "collapsed": false
   },
   "outputs": [],
   "source": [
    "hypothesis = tf.matmul(W,x_data)"
   ]
  },
  {
   "cell_type": "markdown",
   "metadata": {},
   "source": [
    "### 4. cost"
   ]
  },
  {
   "cell_type": "code",
   "execution_count": 14,
   "metadata": {
    "collapsed": true
   },
   "outputs": [],
   "source": [
    "cost = tf.reduce_mean(tf.square(hypothesis - y_data))"
   ]
  },
  {
   "cell_type": "markdown",
   "metadata": {},
   "source": [
    "### 5. minimise cost"
   ]
  },
  {
   "cell_type": "code",
   "execution_count": 15,
   "metadata": {
    "collapsed": true
   },
   "outputs": [],
   "source": [
    "a = tf.Variable(0.1)\n",
    "optimizer = tf.train.GradientDescentOptimizer(a)\n",
    "train = optimizer.minimize(cost)"
   ]
  },
  {
   "cell_type": "markdown",
   "metadata": {},
   "source": [
    "### 6. 초기화"
   ]
  },
  {
   "cell_type": "code",
   "execution_count": 16,
   "metadata": {
    "collapsed": false
   },
   "outputs": [
    {
     "name": "stdout",
     "output_type": "stream",
     "text": [
      "WARNING:tensorflow:From <ipython-input-16-0f50547c66e8>:1 in <module>.: initialize_all_variables (from tensorflow.python.ops.variables) is deprecated and will be removed after 2017-03-02.\n",
      "Instructions for updating:\n",
      "Use `tf.global_variables_initializer` instead.\n"
     ]
    }
   ],
   "source": [
    "init = tf.initialize_all_variables()"
   ]
  },
  {
   "cell_type": "markdown",
   "metadata": {},
   "source": [
    "### 7. 세션 생성"
   ]
  },
  {
   "cell_type": "code",
   "execution_count": 17,
   "metadata": {
    "collapsed": true
   },
   "outputs": [],
   "source": [
    "sess = tf.Session()\n",
    "sess.run(init)"
   ]
  },
  {
   "cell_type": "markdown",
   "metadata": {},
   "source": [
    "### 8. 학습 실행"
   ]
  },
  {
   "cell_type": "code",
   "execution_count": 19,
   "metadata": {
    "collapsed": false
   },
   "outputs": [
    {
     "name": "stdout",
     "output_type": "stream",
     "text": [
      "0 - cost: 1.34455e-06 | W: [[-0.002749    1.00072253  1.00085735]]\n",
      "20 - cost: 3.89357e-07 | W: [[-0.00147917  1.00038886  1.00046134]]\n",
      "40 - cost: 1.1277e-07 | W: [[ -7.95958564e-04   1.00020921e+00   1.00024831e+00]]\n",
      "60 - cost: 3.26672e-08 | W: [[ -4.28367261e-04   1.00011253e+00   1.00013363e+00]]\n",
      "80 - cost: 9.4487e-09 | W: [[ -2.30427439e-04   1.00006068e+00   1.00007188e+00]]\n",
      "100 - cost: 2.73151e-09 | W: [[ -1.23963997e-04   1.00003266e+00   1.00003862e+00]]\n",
      "120 - cost: 7.92887e-10 | W: [[ -6.67101558e-05   1.00001752e+00   1.00002074e+00]]\n",
      "140 - cost: 2.30176e-10 | W: [[ -3.58611833e-05   1.00000954e+00   1.00001121e+00]]\n",
      "160 - cost: 6.78433e-11 | W: [[ -1.92577118e-05   1.00000513e+00   1.00000608e+00]]\n",
      "180 - cost: 1.94667e-11 | W: [[ -1.04052297e-05   1.00000286e+00   1.00000334e+00]]\n",
      "200 - cost: 5.4257e-12 | W: [[ -5.62493551e-06   1.00000155e+00   1.00000179e+00]]\n",
      "220 - cost: 1.89644e-12 | W: [[ -3.01186833e-06   1.00000083e+00   1.00000095e+00]]\n",
      "240 - cost: 6.39488e-13 | W: [[ -1.65288259e-06   1.00000036e+00   1.00000048e+00]]\n",
      "260 - cost: 3.55271e-13 | W: [[ -1.05445190e-06   1.00000036e+00   1.00000036e+00]]\n",
      "280 - cost: 1.05871e-13 | W: [[ -6.34835374e-07   1.00000012e+00   1.00000012e+00]]\n",
      "300 - cost: 2.06057e-14 | W: [[ -3.20122865e-07   1.00000012e+00   1.00000012e+00]]\n",
      "320 - cost: 1.77636e-14 | W: [[ -2.96281030e-07   1.00000012e+00   1.00000012e+00]]\n",
      "340 - cost: 1.77636e-14 | W: [[ -2.96281030e-07   1.00000012e+00   1.00000012e+00]]\n",
      "360 - cost: 1.77636e-14 | W: [[ -2.96281030e-07   1.00000012e+00   1.00000012e+00]]\n",
      "380 - cost: 1.77636e-14 | W: [[ -2.96281030e-07   1.00000012e+00   1.00000012e+00]]\n",
      "400 - cost: 1.77636e-14 | W: [[ -2.96281030e-07   1.00000012e+00   1.00000012e+00]]\n"
     ]
    }
   ],
   "source": [
    "for step in range(401):\n",
    "    sess.run(train)\n",
    "    if step %20 == 0:\n",
    "        print(step,\"- cost:\",sess.run(cost),\"| W:\",sess.run(W))"
   ]
  }
 ],
 "metadata": {
  "kernelspec": {
   "display_name": "Python 3",
   "language": "python",
   "name": "python3"
  },
  "language_info": {
   "codemirror_mode": {
    "name": "ipython",
    "version": 3
   },
   "file_extension": ".py",
   "mimetype": "text/x-python",
   "name": "python",
   "nbconvert_exporter": "python",
   "pygments_lexer": "ipython3",
   "version": "3.5.2"
  }
 },
 "nbformat": 4,
 "nbformat_minor": 2
}
