{
 "cells": [
  {
   "cell_type": "markdown",
   "metadata": {},
   "source": [
    "# 선형 회귀를 텐서플로우로 구현해보기\n",
    "\n",
    "---\n",
    "테스트 환경 준비"
   ]
  },
  {
   "cell_type": "code",
   "execution_count": 2,
   "metadata": {
    "collapsed": true
   },
   "outputs": [],
   "source": [
    "import tensorflow as tf"
   ]
  },
  {
   "cell_type": "markdown",
   "metadata": {},
   "source": [
    "### 1. 트레이닝 데이터"
   ]
  },
  {
   "cell_type": "code",
   "execution_count": 3,
   "metadata": {
    "collapsed": true
   },
   "outputs": [],
   "source": [
    "x_data = [1,2,3]\n",
    "y_data = [1,2,3]"
   ]
  },
  {
   "cell_type": "markdown",
   "metadata": {},
   "source": [
    "### 2. Variable 설정\n",
    "이번 실험의 목표는 트레이닝데이터를 이용하여 학습한 텐서플로우가 과연 W가 1이고 b가 0인 가설을 찾을 수 있는지 알아보는 것이다.\n",
    "먼저 W와 b에 -1부터 1까지 랜덤한 값을 준뒤에 텐서플로우가 적절한 값을 찾아보도록 한다."
   ]
  },
  {
   "cell_type": "code",
   "execution_count": 4,
   "metadata": {
    "collapsed": false
   },
   "outputs": [],
   "source": [
    "W = tf.Variable(tf.random_uniform([1],-1.0,1.0))\n",
    "b = tf.Variable(tf.random_uniform([1],-1.0,1.0))"
   ]
  },
  {
   "cell_type": "markdown",
   "metadata": {},
   "source": [
    "### 3. 가설 수식"
   ]
  },
  {
   "cell_type": "code",
   "execution_count": 5,
   "metadata": {
    "collapsed": true
   },
   "outputs": [],
   "source": [
    "hypothesis = W*x_data+b"
   ]
  },
  {
   "cell_type": "markdown",
   "metadata": {},
   "source": [
    "### 4. 오차 수식"
   ]
  },
  {
   "cell_type": "code",
   "execution_count": 6,
   "metadata": {
    "collapsed": true
   },
   "outputs": [],
   "source": [
    "cost = tf.reduce_mean(tf.square(hypothesis - y_data))"
   ]
  },
  {
   "cell_type": "markdown",
   "metadata": {},
   "source": [
    "### 5. 오차 최소화 알고리즘 적용"
   ]
  },
  {
   "cell_type": "code",
   "execution_count": 7,
   "metadata": {
    "collapsed": true
   },
   "outputs": [],
   "source": [
    "a = tf.Variable(0.1)\n",
    "optimizer = tf.train.GradientDescentOptimizer(a)\n",
    "train = optimizer.minimize(cost)"
   ]
  },
  {
   "cell_type": "markdown",
   "metadata": {},
   "source": [
    "### 6. 변수 초기화"
   ]
  },
  {
   "cell_type": "code",
   "execution_count": 8,
   "metadata": {
    "collapsed": false,
    "scrolled": true
   },
   "outputs": [
    {
     "name": "stdout",
     "output_type": "stream",
     "text": [
      "WARNING:tensorflow:From <ipython-input-8-0f50547c66e8>:1 in <module>.: initialize_all_variables (from tensorflow.python.ops.variables) is deprecated and will be removed after 2017-03-02.\n",
      "Instructions for updating:\n",
      "Use `tf.global_variables_initializer` instead.\n"
     ]
    }
   ],
   "source": [
    "init = tf.initialize_all_variables()"
   ]
  },
  {
   "cell_type": "markdown",
   "metadata": {},
   "source": [
    "### 7. 세션 실행\n",
    "세션을 생성한 직후 최초 1회에 변수를 초기화한 값을 할당해 실행해준다."
   ]
  },
  {
   "cell_type": "code",
   "execution_count": 9,
   "metadata": {
    "collapsed": true
   },
   "outputs": [],
   "source": [
    "sess = tf.Session()\n",
    "sess.run(init)"
   ]
  },
  {
   "cell_type": "markdown",
   "metadata": {},
   "source": [
    "### 8. 딥딥딥 러닝\n",
    "20단위로 딥러닝을 할떄마다 딥러닝 반복 순서,오차값, w,b값을 출력하게 한다"
   ]
  },
  {
   "cell_type": "code",
   "execution_count": 11,
   "metadata": {
    "collapsed": false,
    "scrolled": true
   },
   "outputs": [
    {
     "name": "stdout",
     "output_type": "stream",
     "text": [
      "0 0.0 [ 1.] [  5.22007113e-08]\n",
      "20 0.0 [ 1.] [  5.22007113e-08]\n",
      "40 0.0 [ 1.] [  5.22007113e-08]\n",
      "60 0.0 [ 1.] [  5.22007113e-08]\n",
      "80 0.0 [ 1.] [  5.22007113e-08]\n",
      "100 0.0 [ 1.] [  5.22007113e-08]\n",
      "120 0.0 [ 1.] [  5.22007113e-08]\n",
      "140 0.0 [ 1.] [  5.22007113e-08]\n",
      "160 0.0 [ 1.] [  5.22007113e-08]\n",
      "180 0.0 [ 1.] [  5.22007113e-08]\n",
      "200 0.0 [ 1.] [  5.22007113e-08]\n",
      "220 0.0 [ 1.] [  5.22007113e-08]\n",
      "240 0.0 [ 1.] [  5.22007113e-08]\n",
      "260 0.0 [ 1.] [  5.22007113e-08]\n",
      "280 0.0 [ 1.] [  5.22007113e-08]\n",
      "300 0.0 [ 1.] [  5.22007113e-08]\n",
      "320 0.0 [ 1.] [  5.22007113e-08]\n",
      "340 0.0 [ 1.] [  5.22007113e-08]\n",
      "360 0.0 [ 1.] [  5.22007113e-08]\n",
      "380 0.0 [ 1.] [  5.22007113e-08]\n",
      "400 0.0 [ 1.] [  5.22007113e-08]\n",
      "420 0.0 [ 1.] [  5.22007113e-08]\n",
      "440 0.0 [ 1.] [  5.22007113e-08]\n",
      "460 0.0 [ 1.] [  5.22007113e-08]\n",
      "480 0.0 [ 1.] [  5.22007113e-08]\n",
      "500 0.0 [ 1.] [  5.22007113e-08]\n",
      "520 0.0 [ 1.] [  5.22007113e-08]\n",
      "540 0.0 [ 1.] [  5.22007113e-08]\n",
      "560 0.0 [ 1.] [  5.22007113e-08]\n",
      "580 0.0 [ 1.] [  5.22007113e-08]\n",
      "600 0.0 [ 1.] [  5.22007113e-08]\n",
      "620 0.0 [ 1.] [  5.22007113e-08]\n",
      "640 0.0 [ 1.] [  5.22007113e-08]\n",
      "660 0.0 [ 1.] [  5.22007113e-08]\n",
      "680 0.0 [ 1.] [  5.22007113e-08]\n",
      "700 0.0 [ 1.] [  5.22007113e-08]\n",
      "720 0.0 [ 1.] [  5.22007113e-08]\n",
      "740 0.0 [ 1.] [  5.22007113e-08]\n",
      "760 0.0 [ 1.] [  5.22007113e-08]\n",
      "780 0.0 [ 1.] [  5.22007113e-08]\n",
      "800 0.0 [ 1.] [  5.22007113e-08]\n",
      "820 0.0 [ 1.] [  5.22007113e-08]\n",
      "840 0.0 [ 1.] [  5.22007113e-08]\n",
      "860 0.0 [ 1.] [  5.22007113e-08]\n",
      "880 0.0 [ 1.] [  5.22007113e-08]\n",
      "900 0.0 [ 1.] [  5.22007113e-08]\n",
      "920 0.0 [ 1.] [  5.22007113e-08]\n",
      "940 0.0 [ 1.] [  5.22007113e-08]\n",
      "960 0.0 [ 1.] [  5.22007113e-08]\n",
      "980 0.0 [ 1.] [  5.22007113e-08]\n",
      "1000 0.0 [ 1.] [  5.22007113e-08]\n",
      "1020 0.0 [ 1.] [  5.22007113e-08]\n",
      "1040 0.0 [ 1.] [  5.22007113e-08]\n",
      "1060 0.0 [ 1.] [  5.22007113e-08]\n",
      "1080 0.0 [ 1.] [  5.22007113e-08]\n",
      "1100 0.0 [ 1.] [  5.22007113e-08]\n",
      "1120 0.0 [ 1.] [  5.22007113e-08]\n",
      "1140 0.0 [ 1.] [  5.22007113e-08]\n",
      "1160 0.0 [ 1.] [  5.22007113e-08]\n",
      "1180 0.0 [ 1.] [  5.22007113e-08]\n",
      "1200 0.0 [ 1.] [  5.22007113e-08]\n",
      "1220 0.0 [ 1.] [  5.22007113e-08]\n",
      "1240 0.0 [ 1.] [  5.22007113e-08]\n",
      "1260 0.0 [ 1.] [  5.22007113e-08]\n",
      "1280 0.0 [ 1.] [  5.22007113e-08]\n",
      "1300 0.0 [ 1.] [  5.22007113e-08]\n",
      "1320 0.0 [ 1.] [  5.22007113e-08]\n",
      "1340 0.0 [ 1.] [  5.22007113e-08]\n",
      "1360 0.0 [ 1.] [  5.22007113e-08]\n",
      "1380 0.0 [ 1.] [  5.22007113e-08]\n",
      "1400 0.0 [ 1.] [  5.22007113e-08]\n",
      "1420 0.0 [ 1.] [  5.22007113e-08]\n",
      "1440 0.0 [ 1.] [  5.22007113e-08]\n",
      "1460 0.0 [ 1.] [  5.22007113e-08]\n",
      "1480 0.0 [ 1.] [  5.22007113e-08]\n",
      "1500 0.0 [ 1.] [  5.22007113e-08]\n",
      "1520 0.0 [ 1.] [  5.22007113e-08]\n",
      "1540 0.0 [ 1.] [  5.22007113e-08]\n",
      "1560 0.0 [ 1.] [  5.22007113e-08]\n",
      "1580 0.0 [ 1.] [  5.22007113e-08]\n",
      "1600 0.0 [ 1.] [  5.22007113e-08]\n",
      "1620 0.0 [ 1.] [  5.22007113e-08]\n",
      "1640 0.0 [ 1.] [  5.22007113e-08]\n",
      "1660 0.0 [ 1.] [  5.22007113e-08]\n",
      "1680 0.0 [ 1.] [  5.22007113e-08]\n",
      "1700 0.0 [ 1.] [  5.22007113e-08]\n",
      "1720 0.0 [ 1.] [  5.22007113e-08]\n",
      "1740 0.0 [ 1.] [  5.22007113e-08]\n",
      "1760 0.0 [ 1.] [  5.22007113e-08]\n",
      "1780 0.0 [ 1.] [  5.22007113e-08]\n",
      "1800 0.0 [ 1.] [  5.22007113e-08]\n",
      "1820 0.0 [ 1.] [  5.22007113e-08]\n",
      "1840 0.0 [ 1.] [  5.22007113e-08]\n",
      "1860 0.0 [ 1.] [  5.22007113e-08]\n",
      "1880 0.0 [ 1.] [  5.22007113e-08]\n",
      "1900 0.0 [ 1.] [  5.22007113e-08]\n",
      "1920 0.0 [ 1.] [  5.22007113e-08]\n",
      "1940 0.0 [ 1.] [  5.22007113e-08]\n",
      "1960 0.0 [ 1.] [  5.22007113e-08]\n",
      "1980 0.0 [ 1.] [  5.22007113e-08]\n",
      "2000 0.0 [ 1.] [  5.22007113e-08]\n"
     ]
    }
   ],
   "source": [
    "for step in range(2001):\n",
    "    sess.run(train)\n",
    "    if step % 20 == 0:\n",
    "        print(step,sess.run(cost),sess.run(W),sess.run(b))"
   ]
  }
 ],
 "metadata": {
  "kernelspec": {
   "display_name": "Python 3",
   "language": "python",
   "name": "python3"
  },
  "language_info": {
   "codemirror_mode": {
    "name": "ipython",
    "version": 3
   },
   "file_extension": ".py",
   "mimetype": "text/x-python",
   "name": "python",
   "nbconvert_exporter": "python",
   "pygments_lexer": "ipython3",
   "version": "3.5.2"
  }
 },
 "nbformat": 4,
 "nbformat_minor": 0
}
