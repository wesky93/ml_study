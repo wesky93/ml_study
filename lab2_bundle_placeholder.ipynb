{
 "cells": [
  {
   "cell_type": "markdown",
   "metadata": {},
   "source": [
    "# placeholder 이용해보기\n",
    "placeholder는 딥러닝을 재사용 가능하게 만드는 장점이 있다"
   ]
  },
  {
   "cell_type": "code",
   "execution_count": 14,
   "metadata": {
    "collapsed": true
   },
   "outputs": [],
   "source": [
    "import tensorflow as tf"
   ]
  },
  {
   "cell_type": "markdown",
   "metadata": {},
   "source": [
    "### 1. 트레이닝 데이터"
   ]
  },
  {
   "cell_type": "code",
   "execution_count": 15,
   "metadata": {
    "collapsed": true
   },
   "outputs": [],
   "source": [
    "x_data = [1,2,3]\n",
    "y_data = [1,2,3]"
   ]
  },
  {
   "cell_type": "markdown",
   "metadata": {},
   "source": [
    "### 2. Variable 설정\n",
    "이번 실험의 목표는 트레이닝데이터를 이용하여 학습한 텐서플로우가 과연 W가 1이고 b가 0인 가설을 찾을 수 있는지 알아보는 것이다.\n",
    "먼저 W와 b에 -1부터 1까지 랜덤한 값을 준뒤에 텐서플로우가 적절한 값을 찾아보도록 한다."
   ]
  },
  {
   "cell_type": "code",
   "execution_count": 16,
   "metadata": {
    "collapsed": true
   },
   "outputs": [],
   "source": [
    "W = tf.Variable(tf.random_uniform([1],-1.0,1.0))\n",
    "b = tf.Variable(tf.random_uniform([1],-1.0,1.0))"
   ]
  },
  {
   "cell_type": "markdown",
   "metadata": {},
   "source": [
    "### 3. placeholder 설정"
   ]
  },
  {
   "cell_type": "code",
   "execution_count": 17,
   "metadata": {
    "collapsed": true
   },
   "outputs": [],
   "source": [
    "X = tf.placeholder(tf.float32)\n",
    "Y = tf.placeholder(tf.float32)"
   ]
  },
  {
   "cell_type": "markdown",
   "metadata": {},
   "source": [
    "### 4. 가설 수식"
   ]
  },
  {
   "cell_type": "code",
   "execution_count": 18,
   "metadata": {
    "collapsed": true
   },
   "outputs": [],
   "source": [
    "hypothesis = W*X+b"
   ]
  },
  {
   "cell_type": "markdown",
   "metadata": {},
   "source": [
    "### 5. 오차 수식"
   ]
  },
  {
   "cell_type": "code",
   "execution_count": 19,
   "metadata": {
    "collapsed": false
   },
   "outputs": [],
   "source": [
    "cost = tf.reduce_mean(tf.square(hypothesis - Y))"
   ]
  },
  {
   "cell_type": "markdown",
   "metadata": {},
   "source": [
    "### 6. 오차 최소화 알고리즘 적용"
   ]
  },
  {
   "cell_type": "code",
   "execution_count": 20,
   "metadata": {
    "collapsed": true
   },
   "outputs": [],
   "source": [
    "a = tf.Variable(0.1)\n",
    "optimizer = tf.train.GradientDescentOptimizer(a)\n",
    "train = optimizer.minimize(cost)"
   ]
  },
  {
   "cell_type": "markdown",
   "metadata": {},
   "source": [
    "### 7. 변수 초기화"
   ]
  },
  {
   "cell_type": "code",
   "execution_count": 21,
   "metadata": {
    "collapsed": false
   },
   "outputs": [
    {
     "name": "stdout",
     "output_type": "stream",
     "text": [
      "WARNING:tensorflow:From <ipython-input-21-0f50547c66e8>:1 in <module>.: initialize_all_variables (from tensorflow.python.ops.variables) is deprecated and will be removed after 2017-03-02.\n",
      "Instructions for updating:\n",
      "Use `tf.global_variables_initializer` instead.\n"
     ]
    }
   ],
   "source": [
    "init = tf.initialize_all_variables()"
   ]
  },
  {
   "cell_type": "markdown",
   "metadata": {},
   "source": [
    "### 8. 세션 실행\n",
    "세션을 생성한 직후 최초 1회에 변수를 초기화한 값을 할당해 실행해준다."
   ]
  },
  {
   "cell_type": "code",
   "execution_count": 22,
   "metadata": {
    "collapsed": true
   },
   "outputs": [],
   "source": [
    "sess = tf.Session()\n",
    "sess.run(init)"
   ]
  },
  {
   "cell_type": "markdown",
   "metadata": {},
   "source": [
    "### 8. 딥딥딥 러닝\n",
    "20단위로 딥러닝을 할떄마다 딥러닝 반복 순서,오차값, w,b값을 출력하게 한다"
   ]
  },
  {
   "cell_type": "code",
   "execution_count": 23,
   "metadata": {
    "collapsed": false
   },
   "outputs": [
    {
     "name": "stdout",
     "output_type": "stream",
     "text": [
      "0 0.128896 [ 0.64645493] [ 0.92055458]\n",
      "20 0.0440602 [ 0.75620818] [ 0.55419624]\n",
      "40 0.0166471 [ 0.85014695] [ 0.34065121]\n",
      "60 0.00628973 [ 0.90788889] [ 0.20939022]\n",
      "80 0.00237643 [ 0.94338143] [ 0.1287072]\n",
      "100 0.000897881 [ 0.96519792] [ 0.07911323]\n",
      "120 0.000339244 [ 0.97860801] [ 0.04862909]\n",
      "140 0.000128175 [ 0.9868508] [ 0.02989111]\n",
      "160 4.84289e-05 [ 0.99191749] [ 0.01837337]\n",
      "180 1.82969e-05 [ 0.99503189] [ 0.01129363]\n",
      "200 6.91357e-06 [ 0.99694622] [ 0.00694197]\n",
      "220 2.61212e-06 [ 0.99812293] [ 0.00426708]\n",
      "240 9.86989e-07 [ 0.99884623] [ 0.00262287]\n",
      "260 3.729e-07 [ 0.99929076] [ 0.00161221]\n",
      "280 1.40924e-07 [ 0.99956405] [ 0.00099098]\n",
      "300 5.32067e-08 [ 0.99973202] [ 0.00060909]\n",
      "320 2.01202e-08 [ 0.99983525] [ 0.00037439]\n",
      "340 7.59953e-09 [ 0.99989879] [ 0.0002301]\n",
      "360 2.86803e-09 [ 0.99993777] [ 0.00014141]\n",
      "380 1.08459e-09 [ 0.99996173] [  8.69160503e-05]\n",
      "400 4.10471e-10 [ 0.99997646] [  5.34341198e-05]\n",
      "420 1.55964e-10 [ 0.99998558] [  3.28506467e-05]\n",
      "440 5.84587e-11 [ 0.99999112] [  2.01667790e-05]\n",
      "460 2.20931e-11 [ 0.99999452] [  1.24181761e-05]\n",
      "480 8.33704e-12 [ 0.99999666] [  7.64185734e-06]\n",
      "500 3.14534e-12 [ 0.99999797] [  4.70136183e-06]\n",
      "520 1.3074e-12 [ 0.99999875] [  2.87348644e-06]\n",
      "540 4.73695e-13 [ 0.99999917] [  1.74497177e-06]\n",
      "560 1.56319e-13 [ 0.99999952] [  1.12508405e-06]\n",
      "580 6.15804e-14 [ 0.99999964] [  7.43614635e-07]\n",
      "600 6.15804e-14 [ 0.9999997] [  6.00563624e-07]\n",
      "620 1.89478e-14 [ 0.99999982] [  3.85986851e-07]\n",
      "640 4.73695e-15 [ 0.99999994] [  1.87304622e-07]\n",
      "660 0.0 [ 1.] [  5.22007113e-08]\n",
      "680 0.0 [ 1.] [  5.22007113e-08]\n",
      "700 0.0 [ 1.] [  5.22007113e-08]\n",
      "720 0.0 [ 1.] [  5.22007113e-08]\n",
      "740 0.0 [ 1.] [  5.22007113e-08]\n",
      "760 0.0 [ 1.] [  5.22007113e-08]\n",
      "780 0.0 [ 1.] [  5.22007113e-08]\n",
      "800 0.0 [ 1.] [  5.22007113e-08]\n",
      "820 0.0 [ 1.] [  5.22007113e-08]\n",
      "840 0.0 [ 1.] [  5.22007113e-08]\n",
      "860 0.0 [ 1.] [  5.22007113e-08]\n",
      "880 0.0 [ 1.] [  5.22007113e-08]\n",
      "900 0.0 [ 1.] [  5.22007113e-08]\n",
      "920 0.0 [ 1.] [  5.22007113e-08]\n",
      "940 0.0 [ 1.] [  5.22007113e-08]\n",
      "960 0.0 [ 1.] [  5.22007113e-08]\n",
      "980 0.0 [ 1.] [  5.22007113e-08]\n",
      "1000 0.0 [ 1.] [  5.22007113e-08]\n",
      "1020 0.0 [ 1.] [  5.22007113e-08]\n",
      "1040 0.0 [ 1.] [  5.22007113e-08]\n",
      "1060 0.0 [ 1.] [  5.22007113e-08]\n",
      "1080 0.0 [ 1.] [  5.22007113e-08]\n",
      "1100 0.0 [ 1.] [  5.22007113e-08]\n",
      "1120 0.0 [ 1.] [  5.22007113e-08]\n",
      "1140 0.0 [ 1.] [  5.22007113e-08]\n",
      "1160 0.0 [ 1.] [  5.22007113e-08]\n",
      "1180 0.0 [ 1.] [  5.22007113e-08]\n",
      "1200 0.0 [ 1.] [  5.22007113e-08]\n",
      "1220 0.0 [ 1.] [  5.22007113e-08]\n",
      "1240 0.0 [ 1.] [  5.22007113e-08]\n",
      "1260 0.0 [ 1.] [  5.22007113e-08]\n",
      "1280 0.0 [ 1.] [  5.22007113e-08]\n",
      "1300 0.0 [ 1.] [  5.22007113e-08]\n",
      "1320 0.0 [ 1.] [  5.22007113e-08]\n",
      "1340 0.0 [ 1.] [  5.22007113e-08]\n",
      "1360 0.0 [ 1.] [  5.22007113e-08]\n",
      "1380 0.0 [ 1.] [  5.22007113e-08]\n",
      "1400 0.0 [ 1.] [  5.22007113e-08]\n",
      "1420 0.0 [ 1.] [  5.22007113e-08]\n",
      "1440 0.0 [ 1.] [  5.22007113e-08]\n",
      "1460 0.0 [ 1.] [  5.22007113e-08]\n",
      "1480 0.0 [ 1.] [  5.22007113e-08]\n",
      "1500 0.0 [ 1.] [  5.22007113e-08]\n",
      "1520 0.0 [ 1.] [  5.22007113e-08]\n",
      "1540 0.0 [ 1.] [  5.22007113e-08]\n",
      "1560 0.0 [ 1.] [  5.22007113e-08]\n",
      "1580 0.0 [ 1.] [  5.22007113e-08]\n",
      "1600 0.0 [ 1.] [  5.22007113e-08]\n",
      "1620 0.0 [ 1.] [  5.22007113e-08]\n",
      "1640 0.0 [ 1.] [  5.22007113e-08]\n",
      "1660 0.0 [ 1.] [  5.22007113e-08]\n",
      "1680 0.0 [ 1.] [  5.22007113e-08]\n",
      "1700 0.0 [ 1.] [  5.22007113e-08]\n",
      "1720 0.0 [ 1.] [  5.22007113e-08]\n",
      "1740 0.0 [ 1.] [  5.22007113e-08]\n",
      "1760 0.0 [ 1.] [  5.22007113e-08]\n",
      "1780 0.0 [ 1.] [  5.22007113e-08]\n",
      "1800 0.0 [ 1.] [  5.22007113e-08]\n",
      "1820 0.0 [ 1.] [  5.22007113e-08]\n",
      "1840 0.0 [ 1.] [  5.22007113e-08]\n",
      "1860 0.0 [ 1.] [  5.22007113e-08]\n",
      "1880 0.0 [ 1.] [  5.22007113e-08]\n",
      "1900 0.0 [ 1.] [  5.22007113e-08]\n",
      "1920 0.0 [ 1.] [  5.22007113e-08]\n",
      "1940 0.0 [ 1.] [  5.22007113e-08]\n",
      "1960 0.0 [ 1.] [  5.22007113e-08]\n",
      "1980 0.0 [ 1.] [  5.22007113e-08]\n",
      "2000 0.0 [ 1.] [  5.22007113e-08]\n"
     ]
    }
   ],
   "source": [
    "for step in range(2001):\n",
    "    sess.run(train, feed_dict={X:x_data,Y:y_data})\n",
    "    if step % 20 == 0:\n",
    "        print(step,sess.run(cost,feed_dict={X:x_data,Y:y_data}),sess.run(W),sess.run(b))"
   ]
  },
  {
   "cell_type": "code",
   "execution_count": 26,
   "metadata": {
    "collapsed": false
   },
   "outputs": [
    {
     "name": "stdout",
     "output_type": "stream",
     "text": [
      "[ 5.]\n",
      "[ 2.5]\n"
     ]
    }
   ],
   "source": [
    "print(sess.run(hypothesis,feed_dict={X:5}))\n",
    "print(sess.run(hypothesis,feed_dict={X:2.5}))"
   ]
  }
 ],
 "metadata": {
  "kernelspec": {
   "display_name": "Python 3",
   "language": "python",
   "name": "python3"
  },
  "language_info": {
   "codemirror_mode": {
    "name": "ipython",
    "version": 3
   },
   "file_extension": ".py",
   "mimetype": "text/x-python",
   "name": "python",
   "nbconvert_exporter": "python",
   "pygments_lexer": "ipython3",
   "version": "3.5.2"
  }
 },
 "nbformat": 4,
 "nbformat_minor": 0
}
