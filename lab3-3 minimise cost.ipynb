{
 "cells": [
  {
   "cell_type": "markdown",
   "metadata": {},
   "source": [
    "# 최소 cost 구하기\n",
    "---\n",
    "\n",
    "### 1. 트레이닝 자료"
   ]
  },
  {
   "cell_type": "code",
   "execution_count": 1,
   "metadata": {
    "collapsed": false
   },
   "outputs": [],
   "source": [
    "import tensorflow as tf\n",
    "\n",
    "x_data = [1.,2.,3.]\n",
    "y_data = [1.,2.,3.]"
   ]
  },
  {
   "cell_type": "markdown",
   "metadata": {},
   "source": [
    "### 2. 선형모델 구성"
   ]
  },
  {
   "cell_type": "code",
   "execution_count": 2,
   "metadata": {
    "collapsed": false
   },
   "outputs": [],
   "source": [
    "W = tf.Variable(tf.random_uniform([1],-10.0,10.0))\n",
    "X = tf.placeholder(tf.float32)\n",
    "Y = tf.placeholder(tf.float32)"
   ]
  },
  {
   "cell_type": "markdown",
   "metadata": {},
   "source": [
    "#### hypothesis\n",
    "$$H(x)=Wx$$"
   ]
  },
  {
   "cell_type": "code",
   "execution_count": 3,
   "metadata": {
    "collapsed": true
   },
   "outputs": [],
   "source": [
    "hypothesis = W * X"
   ]
  },
  {
   "cell_type": "markdown",
   "metadata": {},
   "source": [
    "#### cost 함수 단순화"
   ]
  },
  {
   "cell_type": "code",
   "execution_count": 4,
   "metadata": {
    "collapsed": false
   },
   "outputs": [],
   "source": [
    "cost = tf.reduce_mean(tf.square(hypothesis-Y))"
   ]
  },
  {
   "cell_type": "markdown",
   "metadata": {},
   "source": [
    "### cost 최소화 시키기\n",
    "$$W:=w-\\alpha \\frac { 1 }{ m } \\sum _{ i=1 }^{ m }{ (W{ x }^{ (i) }-{ y }^{ (i) }){ x }^{ (i) } } $$"
   ]
  },
  {
   "cell_type": "code",
   "execution_count": 5,
   "metadata": {
    "collapsed": false
   },
   "outputs": [],
   "source": [
    "descent = W - tf.mul(0.1,tf.reduce_mean(tf.mul((tf.mul(W,X)-Y),X)))\n",
    "update = W.assign(descent)"
   ]
  },
  {
   "cell_type": "markdown",
   "metadata": {},
   "source": [
    "변수 초기화"
   ]
  },
  {
   "cell_type": "code",
   "execution_count": 6,
   "metadata": {
    "collapsed": false
   },
   "outputs": [
    {
     "name": "stdout",
     "output_type": "stream",
     "text": [
      "WARNING:tensorflow:From <ipython-input-6-0f50547c66e8>:1 in <module>.: initialize_all_variables (from tensorflow.python.ops.variables) is deprecated and will be removed after 2017-03-02.\n",
      "Instructions for updating:\n",
      "Use `tf.global_variables_initializer` instead.\n"
     ]
    }
   ],
   "source": [
    "init = tf.initialize_all_variables()"
   ]
  },
  {
   "cell_type": "markdown",
   "metadata": {},
   "source": [
    "### 세션 구성"
   ]
  },
  {
   "cell_type": "code",
   "execution_count": 7,
   "metadata": {
    "collapsed": true
   },
   "outputs": [],
   "source": [
    "sess = tf.Session()\n",
    "sess.run(init)"
   ]
  },
  {
   "cell_type": "markdown",
   "metadata": {},
   "source": [
    "### 학습"
   ]
  },
  {
   "cell_type": "code",
   "execution_count": 8,
   "metadata": {
    "collapsed": false
   },
   "outputs": [
    {
     "name": "stdout",
     "output_type": "stream",
     "text": [
      "0 50.9778 [-2.30511904]\n",
      "1 14.5003 [-0.76273012]\n",
      "2 4.12454 [ 0.05987722]\n",
      "3 1.1732 [ 0.49860123]\n",
      "4 0.333711 [ 0.73258734]\n",
      "5 0.0949223 [ 0.85737991]\n",
      "6 0.0270001 [ 0.92393595]\n",
      "7 0.00768005 [ 0.95943248]\n",
      "8 0.00218455 [ 0.97836399]\n",
      "9 0.000621384 [ 0.98846078]\n",
      "10 0.000176748 [ 0.99384576]\n",
      "11 5.02743e-05 [ 0.99671775]\n",
      "12 1.43005e-05 [ 0.99824947]\n",
      "13 4.06729e-06 [ 0.99906641]\n",
      "14 1.15718e-06 [ 0.99950206]\n",
      "15 3.29019e-07 [ 0.99973446]\n",
      "16 9.35966e-08 [ 0.99985838]\n",
      "17 2.66056e-08 [ 0.99992448]\n",
      "18 7.57636e-09 [ 0.99995971]\n",
      "19 2.1632e-09 [ 0.99997848]\n",
      "20 6.1118e-10 [ 0.99998856]\n",
      "21 1.71047e-10 [ 0.99999392]\n",
      "22 4.97629e-11 [ 0.99999672]\n",
      "23 1.41505e-11 [ 0.99999827]\n",
      "24 3.62495e-12 [ 0.99999911]\n",
      "25 1.06108e-12 [ 0.99999952]\n",
      "26 2.65269e-13 [ 0.99999976]\n",
      "27 9.9476e-14 [ 0.99999988]\n",
      "28 2.4869e-14 [ 0.99999994]\n",
      "29 0.0 [ 1.]\n",
      "30 0.0 [ 1.]\n",
      "31 0.0 [ 1.]\n",
      "32 0.0 [ 1.]\n",
      "33 0.0 [ 1.]\n",
      "34 0.0 [ 1.]\n",
      "35 0.0 [ 1.]\n",
      "36 0.0 [ 1.]\n",
      "37 0.0 [ 1.]\n",
      "38 0.0 [ 1.]\n",
      "39 0.0 [ 1.]\n",
      "40 0.0 [ 1.]\n",
      "41 0.0 [ 1.]\n",
      "42 0.0 [ 1.]\n",
      "43 0.0 [ 1.]\n",
      "44 0.0 [ 1.]\n",
      "45 0.0 [ 1.]\n",
      "46 0.0 [ 1.]\n",
      "47 0.0 [ 1.]\n",
      "48 0.0 [ 1.]\n",
      "49 0.0 [ 1.]\n"
     ]
    }
   ],
   "source": [
    "for step in range(50):\n",
    "    sess.run(update,feed_dict={X:x_data,Y:y_data})\n",
    "    print(step,sess.run(cost,feed_dict={X:x_data,Y:y_data}),sess.run(W))"
   ]
  }
 ],
 "metadata": {
  "kernelspec": {
   "display_name": "Python 3",
   "language": "python",
   "name": "python3"
  },
  "language_info": {
   "codemirror_mode": {
    "name": "ipython",
    "version": 3
   },
   "file_extension": ".py",
   "mimetype": "text/x-python",
   "name": "python",
   "nbconvert_exporter": "python",
   "pygments_lexer": "ipython3",
   "version": "3.5.2"
  }
 },
 "nbformat": 4,
 "nbformat_minor": 2
}
