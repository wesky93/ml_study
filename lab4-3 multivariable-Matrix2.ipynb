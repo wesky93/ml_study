{
 "cells": [
  {
   "cell_type": "markdown",
   "metadata": {},
   "source": [
    "# mutil-variable with Matrix2\n",
    "b까지도 행렬에 포함시켜 계산하기\n",
    "$$H(x)=\\begin{bmatrix} b & { w }_{ 1 } & { w }_{ 2 } \\end{bmatrix}\\times \\begin{bmatrix} 1 \\\\ { x }_{ 1 } \\\\ { x }_{ 2 } \\end{bmatrix}={ w }_{ 1 }{ x }_{ 1 }+{ w }_{ 2 }{ x }_{ 2 }+b$$\n",
    "---\n",
    "\n",
    "### 1. 학습 데이터"
   ]
  },
  {
   "cell_type": "code",
   "execution_count": 1,
   "metadata": {
    "collapsed": false
   },
   "outputs": [],
   "source": [
    "import tensorflow as tf\n",
    "\n",
    "x_data = [[1,1,1,1,1],\n",
    "          [1.,0.,3.,0.,5.],\n",
    "          [0.,2.,0.,4.,0.]]\n",
    "y_data = [1,2,3,4,5]"
   ]
  },
  {
   "cell_type": "markdown",
   "metadata": {},
   "source": [
    "### 2. variable"
   ]
  },
  {
   "cell_type": "code",
   "execution_count": 2,
   "metadata": {
    "collapsed": true
   },
   "outputs": [],
   "source": [
    "W = tf.Variable(tf.random_uniform([1,3],-1.0,1.0))"
   ]
  },
  {
   "cell_type": "markdown",
   "metadata": {},
   "source": [
    "### 3. Hypothesis\n",
    "$$H(x)=\\begin{bmatrix} b & { w }_{ 1 } & { w }_{ 2 } \\end{bmatrix}\\times \\begin{bmatrix} 1 \\\\ { x }_{ 1 } \\\\ { x }_{ 2 } \\end{bmatrix}$$\n"
   ]
  },
  {
   "cell_type": "code",
   "execution_count": 3,
   "metadata": {
    "collapsed": false
   },
   "outputs": [],
   "source": [
    "hypothesis = tf.matmul(W,x_data)"
   ]
  },
  {
   "cell_type": "markdown",
   "metadata": {},
   "source": [
    "### 4. cost"
   ]
  },
  {
   "cell_type": "code",
   "execution_count": 4,
   "metadata": {
    "collapsed": true
   },
   "outputs": [],
   "source": [
    "cost = tf.reduce_mean(tf.square(hypothesis - y_data))"
   ]
  },
  {
   "cell_type": "markdown",
   "metadata": {},
   "source": [
    "### 5. minimise cost"
   ]
  },
  {
   "cell_type": "code",
   "execution_count": 5,
   "metadata": {
    "collapsed": true
   },
   "outputs": [],
   "source": [
    "a = tf.Variable(0.1)\n",
    "optimizer = tf.train.GradientDescentOptimizer(a)\n",
    "train = optimizer.minimize(cost)"
   ]
  },
  {
   "cell_type": "markdown",
   "metadata": {},
   "source": [
    "### 6. 초기화"
   ]
  },
  {
   "cell_type": "code",
   "execution_count": 6,
   "metadata": {
    "collapsed": false
   },
   "outputs": [
    {
     "name": "stdout",
     "output_type": "stream",
     "text": [
      "WARNING:tensorflow:From <ipython-input-6-0f50547c66e8>:1 in <module>.: initialize_all_variables (from tensorflow.python.ops.variables) is deprecated and will be removed after 2017-03-02.\n",
      "Instructions for updating:\n",
      "Use `tf.global_variables_initializer` instead.\n"
     ]
    }
   ],
   "source": [
    "init = tf.initialize_all_variables()"
   ]
  },
  {
   "cell_type": "markdown",
   "metadata": {},
   "source": [
    "### 7. 세션 생성"
   ]
  },
  {
   "cell_type": "code",
   "execution_count": 7,
   "metadata": {
    "collapsed": true
   },
   "outputs": [],
   "source": [
    "sess = tf.Session()\n",
    "sess.run(init)"
   ]
  },
  {
   "cell_type": "markdown",
   "metadata": {},
   "source": [
    "### 8. 학습 실행"
   ]
  },
  {
   "cell_type": "code",
   "execution_count": 8,
   "metadata": {
    "collapsed": false
   },
   "outputs": [
    {
     "name": "stdout",
     "output_type": "stream",
     "text": [
      "0 - cost: 0.520123 | W: [[ 1.29856265  0.798491    0.45335472]]\n",
      "100 - cost: 0.000616581 | W: [[ 0.05886536  0.98452592  0.98164016]]\n",
      "200 - cost: 1.25462e-06 | W: [[ 0.00265547  0.99930197  0.99917179]]\n",
      "300 - cost: 2.55586e-09 | W: [[  1.19802877e-04   9.99968529e-01   9.99962628e-01]]\n",
      "400 - cost: 5.30918e-12 | W: [[  5.38102267e-06   9.99998629e-01   9.99998331e-01]]\n",
      "500 - cost: 2.55795e-14 | W: [[  2.88402589e-07   9.99999881e-01   9.99999940e-01]]\n",
      "600 - cost: 1.42109e-14 | W: [[  1.78730161e-07   1.00000000e+00   9.99999940e-01]]\n",
      "700 - cost: 1.42109e-14 | W: [[  1.78730161e-07   1.00000000e+00   9.99999940e-01]]\n",
      "800 - cost: 1.42109e-14 | W: [[  1.78730161e-07   1.00000000e+00   9.99999940e-01]]\n",
      "900 - cost: 1.42109e-14 | W: [[  1.78730161e-07   1.00000000e+00   9.99999940e-01]]\n",
      "1000 - cost: 1.42109e-14 | W: [[  1.78730161e-07   1.00000000e+00   9.99999940e-01]]\n",
      "1100 - cost: 1.42109e-14 | W: [[  1.78730161e-07   1.00000000e+00   9.99999940e-01]]\n",
      "1200 - cost: 1.42109e-14 | W: [[  1.78730161e-07   1.00000000e+00   9.99999940e-01]]\n",
      "1300 - cost: 1.42109e-14 | W: [[  1.78730161e-07   1.00000000e+00   9.99999940e-01]]\n",
      "1400 - cost: 1.42109e-14 | W: [[  1.78730161e-07   1.00000000e+00   9.99999940e-01]]\n",
      "1500 - cost: 1.42109e-14 | W: [[  1.78730161e-07   1.00000000e+00   9.99999940e-01]]\n",
      "1600 - cost: 1.42109e-14 | W: [[  1.78730161e-07   1.00000000e+00   9.99999940e-01]]\n",
      "1700 - cost: 1.42109e-14 | W: [[  1.78730161e-07   1.00000000e+00   9.99999940e-01]]\n",
      "1800 - cost: 1.42109e-14 | W: [[  1.78730161e-07   1.00000000e+00   9.99999940e-01]]\n",
      "1900 - cost: 1.42109e-14 | W: [[  1.78730161e-07   1.00000000e+00   9.99999940e-01]]\n",
      "2000 - cost: 1.42109e-14 | W: [[  1.78730161e-07   1.00000000e+00   9.99999940e-01]]\n"
     ]
    }
   ],
   "source": [
    "for step in range(2001):\n",
    "    sess.run(train)\n",
    "    if step %100 == 0:\n",
    "        print(step,\"- cost:\",sess.run(cost),\"| W:\",sess.run(W))"
   ]
  }
 ],
 "metadata": {
  "kernelspec": {
   "display_name": "Python 3",
   "language": "python",
   "name": "python3"
  },
  "language_info": {
   "codemirror_mode": {
    "name": "ipython",
    "version": 3
   },
   "file_extension": ".py",
   "mimetype": "text/x-python",
   "name": "python",
   "nbconvert_exporter": "python",
   "pygments_lexer": "ipython3",
   "version": "3.5.2"
  }
 },
 "nbformat": 4,
 "nbformat_minor": 2
}
