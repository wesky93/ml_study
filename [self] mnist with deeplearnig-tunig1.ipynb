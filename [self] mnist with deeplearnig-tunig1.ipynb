{
 "cells": [
  {
   "cell_type": "code",
   "execution_count": 1,
   "metadata": {
    "collapsed": true
   },
   "outputs": [],
   "source": [
    "import tensorflow as tf\n",
    "from tensorflow.examples.tutorials.mnist import input_data\n",
    "import numpy as np\n",
    "from random import randint\n",
    "import shutil"
   ]
  },
  {
   "cell_type": "markdown",
   "metadata": {},
   "source": [
    "## 추가사항\n",
    "이전 딥러닝 소스코드에서 가중치 초기화시 0혹은 0~1사이 랜덤값을 부여한 반면 이번에는 가중치의 초기값을 의미 있는 값으로 초기화 하여 학습을 원활하게 해준다."
   ]
  },
  {
   "cell_type": "markdown",
   "metadata": {},
   "source": [
    "## MNIST자료 불러오기\n",
    "28*28사이즈의 숫자 이미지를 행렬로 표현하였으며 2차원 구조를 정규화 하여 1차원 구조로 표현되있다.\n",
    "라벨의 경우 one-hot방식인데 0~9까지의 숫자를 [0,0,0,0,0,1,0,0,0,0]이런 식으로 표현하였다."
   ]
  },
  {
   "cell_type": "code",
   "execution_count": 2,
   "metadata": {
    "collapsed": false
   },
   "outputs": [
    {
     "name": "stdout",
     "output_type": "stream",
     "text": [
      "Extracting ./MNIST_data/train-images-idx3-ubyte.gz\n",
      "Extracting ./MNIST_data/train-labels-idx1-ubyte.gz\n",
      "Extracting ./MNIST_data/t10k-images-idx3-ubyte.gz\n",
      "Extracting ./MNIST_data/t10k-labels-idx1-ubyte.gz\n"
     ]
    }
   ],
   "source": [
    "mnist = input_data.read_data_sets(\"./MNIST_data/\",one_hot=True)"
   ]
  },
  {
   "cell_type": "code",
   "execution_count": 3,
   "metadata": {
    "collapsed": false,
    "scrolled": false
   },
   "outputs": [
    {
     "name": "stdout",
     "output_type": "stream",
     "text": [
      "총 학습용 데이터 갯수 :  55000\n",
      "총 테스트용 데이터 갯수 :  10000\n",
      "총 검증용 데이터 갯수 :  5000\n",
      "개별 데이터의 행렬 길이 :  784\n",
      "개별 라벨의 행렬 길이 :  10\n"
     ]
    }
   ],
   "source": [
    "print(\"총 학습용 데이터 갯수 : \",len(mnist.train.labels))\n",
    "print(\"총 테스트용 데이터 갯수 : \",len(mnist.test.labels))\n",
    "print(\"총 검증용 데이터 갯수 : \",len(mnist.validation.labels))\n",
    "print(\"개별 데이터의 행렬 길이 : \",len(mnist.train.images[0]))\n",
    "print(\"개별 라벨의 행렬 길이 : \", len(mnist.train.labels[0]))"
   ]
  },
  {
   "cell_type": "markdown",
   "metadata": {},
   "source": [
    "## 가중치 초기화\n",
    "0이 아닌 값으로 가중치를 초기해 줌으로써 원활한 학습을 할수 있게 보조한다."
   ]
  },
  {
   "cell_type": "code",
   "execution_count": 4,
   "metadata": {
    "collapsed": true
   },
   "outputs": [],
   "source": [
    "def xaver_init(n_inputs, n_outputs, uniform = True):\n",
    "    if uniform:\n",
    "        init_range = tf.sqrt(6.0/ (n_inputs + n_outputs))\n",
    "        return tf.random_uniform_initializer(-init_range, init_range)\n",
    "\n",
    "    else:\n",
    "        stddev = tf.sqrt(3.0 / (n_inputs + n_outputs))\n",
    "        return tf.truncated_normal_initializer(stddev=stddev)"
   ]
  },
  {
   "cell_type": "markdown",
   "metadata": {},
   "source": [
    "## 파라미터 설정"
   ]
  },
  {
   "cell_type": "code",
   "execution_count": 5,
   "metadata": {
    "collapsed": false
   },
   "outputs": [],
   "source": [
    "x = tf.placeholder(tf.float32,[None,784], name=\"images\")\n",
    "label = tf.placeholder(tf.float32,[None,10],name=\"labels\")\n",
    "\n",
    "W1 = tf.get_variable(\"W1\", shape=[784,256], initializer=xaver_init(784,256))\n",
    "W2 = tf.get_variable(\"W2\", shape=[256,256], initializer=xaver_init(256,256))\n",
    "W3 = tf.get_variable(\"W3\", shape=[256,10], initializer=xaver_init(256,10))\n",
    "\n",
    "b1 = tf.Variable(tf.zeros([256]),name=\"bias1\")\n",
    "b2 = tf.Variable(tf.zeros([256]),name=\"bias2\")\n",
    "b3 = tf.Variable(tf.zeros([10]),name=\"bias3\")"
   ]
  },
  {
   "cell_type": "markdown",
   "metadata": {},
   "source": [
    "## 학습설정 파라미터"
   ]
  },
  {
   "cell_type": "code",
   "execution_count": 6,
   "metadata": {
    "collapsed": true
   },
   "outputs": [],
   "source": [
    "learning_rate = 0.005\n",
    "# 전체 학습 횟수\n",
    "training_epochs = 15\n",
    "# 단일 학습에 사용할 자료량\n",
    "batch_size = 100\n",
    "# 학습 결과 노출 간격\n",
    "display_step = 1\n",
    "# 전체 학습 자료를 단일 반복당 학습 자료수로 나누어 한 학습당 반복횟수 산정\n",
    "total_batch = int(mnist.train.num_examples/batch_size)\n",
    "# 텐서보드용 로그 저장 경로\n",
    "log_path = \"./logs/mnist4deep_2\""
   ]
  },
  {
   "cell_type": "markdown",
   "metadata": {},
   "source": [
    "## 수치 요약"
   ]
  },
  {
   "cell_type": "code",
   "execution_count": 7,
   "metadata": {
    "collapsed": true
   },
   "outputs": [],
   "source": [
    "W1_hist = tf.histogram_summary(\"Weights1\",W1)\n",
    "W2_hist = tf.histogram_summary(\"Weights2\",W2)\n",
    "W3_hist = tf.histogram_summary(\"Weights3\",W3)\n",
    "\n",
    "b1_hist = tf.histogram_summary(\"biases1\",b1)\n",
    "b2_hist = tf.histogram_summary(\"biases2\",b2)\n",
    "b3_hist = tf.histogram_summary(\"biases3\",b3)\n",
    "\n",
    "label_hist = tf.histogram_summary(\"labels\",label)"
   ]
  },
  {
   "cell_type": "markdown",
   "metadata": {},
   "source": [
    "## 가설"
   ]
  },
  {
   "cell_type": "code",
   "execution_count": 8,
   "metadata": {
    "collapsed": false
   },
   "outputs": [],
   "source": [
    "with tf.name_scope(\"Construct_model\") as scope:\n",
    "    with tf.name_scope(\"L1\") as scope:\n",
    "        L1 = tf.nn.relu(tf.add(tf.matmul(x,W1),b1))\n",
    "    with tf.name_scope(\"L2\") as scope:\n",
    "        L2 = tf.nn.relu(tf.add(tf.matmul(L1,W2),b2))\n",
    "    with tf.name_scope(\"L-hypothesis\") as scope:\n",
    "        hypothesis  = tf.add(tf.matmul(L2,W3),b3)"
   ]
  },
  {
   "cell_type": "markdown",
   "metadata": {},
   "source": [
    "## 비용함수(교차엔트로피)"
   ]
  },
  {
   "cell_type": "code",
   "execution_count": 9,
   "metadata": {
    "collapsed": false
   },
   "outputs": [],
   "source": [
    "with tf.name_scope(\"cost_func\") as scope:\n",
    "    cost = tf.reduce_mean(tf.nn.softmax_cross_entropy_with_logits(hypothesis,label))\n",
    "    cost_summary = tf.scalar_summary(\"cost\",cost)\n",
    "    optimizer = tf.train.AdamOptimizer(learning_rate=learning_rate).minimize(cost)"
   ]
  },
  {
   "cell_type": "markdown",
   "metadata": {},
   "source": [
    "## 모델 평가"
   ]
  },
  {
   "cell_type": "code",
   "execution_count": 10,
   "metadata": {
    "collapsed": false
   },
   "outputs": [],
   "source": [
    "with tf.name_scope(\"test\") as scope:\n",
    "    real_label = tf.arg_max(label,1) # 실제 라벨\n",
    "    learn_label = tf.arg_max(hypothesis,1) # 머신러닝 결과\n",
    "    correct_prodiction = tf.equal(real_label,learn_label) # 둘다 값이 같으면 true, 틀리면 false\n",
    "\n",
    "    # 정확도\n",
    "    accuracy = tf.reduce_mean(tf.cast(correct_prodiction,tf.float32))\n",
    "    accuracy_summary = tf.scalar_summary(\"accuracy\",accuracy)"
   ]
  },
  {
   "cell_type": "markdown",
   "metadata": {},
   "source": [
    "## 변수 초기화 "
   ]
  },
  {
   "cell_type": "code",
   "execution_count": 11,
   "metadata": {
    "collapsed": false
   },
   "outputs": [
    {
     "name": "stdout",
     "output_type": "stream",
     "text": [
      "WARNING:tensorflow:From <ipython-input-11-0f50547c66e8>:1 in <module>.: initialize_all_variables (from tensorflow.python.ops.variables) is deprecated and will be removed after 2017-03-02.\n",
      "Instructions for updating:\n",
      "Use `tf.global_variables_initializer` instead.\n"
     ]
    }
   ],
   "source": [
    "init = tf.initialize_all_variables()"
   ]
  },
  {
   "cell_type": "markdown",
   "metadata": {},
   "source": [
    "## 세션"
   ]
  },
  {
   "cell_type": "code",
   "execution_count": 12,
   "metadata": {
    "collapsed": true
   },
   "outputs": [],
   "source": [
    "sess = tf.Session()\n",
    "sess.run(init)"
   ]
  },
  {
   "cell_type": "markdown",
   "metadata": {},
   "source": [
    "## 텐서보드 설정"
   ]
  },
  {
   "cell_type": "code",
   "execution_count": 13,
   "metadata": {
    "collapsed": false
   },
   "outputs": [],
   "source": [
    "merged = tf.merge_all_summaries()\n",
    "try: # 이전 텐서보드 학습로그 삭제\n",
    "    shutil.rmtree(log_path)\n",
    "except:\n",
    "    pass\n",
    "writer = tf.train.SummaryWriter(log_path,sess.graph)"
   ]
  },
  {
   "cell_type": "markdown",
   "metadata": {},
   "source": [
    "## 학습하기"
   ]
  },
  {
   "cell_type": "code",
   "execution_count": 14,
   "metadata": {
    "collapsed": false
   },
   "outputs": [
    {
     "name": "stdout",
     "output_type": "stream",
     "text": [
      "1번 학습 cost: 0.00046951028433713047\n",
      "2번 학습 cost: 0.0003807091442021457\n",
      "3번 학습 cost: 0.0001055341823534532\n",
      "4번 학습 cost: 0.000187186368487098\n",
      "5번 학습 cost: 0.00015099766579541293\n",
      "6번 학습 cost: 3.046064552935687e-05\n",
      "7번 학습 cost: 6.604893641038374e-05\n",
      "8번 학습 cost: 6.880489939993078e-05\n",
      "9번 학습 cost: 7.855831222100692e-05\n",
      "10번 학습 cost: 3.179511224681681e-05\n",
      "11번 학습 cost: 0.0004031111164526506\n",
      "12번 학습 cost: 8.330173282460732e-06\n",
      "13번 학습 cost: 1.3749158348549496e-05\n",
      "14번 학습 cost: 0.0002434243397279219\n",
      "15번 학습 cost: 0.00015230616385286503\n",
      "학습완료\n"
     ]
    }
   ],
   "source": [
    "try:\n",
    "    train_count = 0\n",
    "    for epoch in range(training_epochs):\n",
    "        avg_cost=0\n",
    "        for i in range(total_batch):\n",
    "            batch_xs,batch_ys = mnist.train.next_batch(batch_size)\n",
    "            _,c,cs = sess.run([optimizer,cost,cost_summary],feed_dict={x:batch_xs,label:batch_ys})\n",
    "            avg_cost = c/total_batch\n",
    "            train_count += 1\n",
    "            writer.add_summary(cs,train_count) # 매 batch_size만큼 학습 할때마다 cost를 텐서보드에 그림\n",
    "        print(\"{}번 학습 cost: {}\".format(epoch+1,avg_cost))\n",
    "        if (epoch+1) % display_step == 0:\n",
    "            feed = {x:mnist.test.images, label: mnist.test.labels}\n",
    "            summary,_ = sess.run([merged,accuracy],feed_dict=feed)\n",
    "            writer.add_summary(summary,epoch)\n",
    "except Exception as e:\n",
    "    print(e)\n",
    "    sess.close()\n",
    "    exit()\n",
    "print(\"학습완료\")"
   ]
  },
  {
   "cell_type": "markdown",
   "metadata": {},
   "source": [
    "## 테스트 데이터로 검증"
   ]
  },
  {
   "cell_type": "code",
   "execution_count": 15,
   "metadata": {
    "collapsed": false
   },
   "outputs": [
    {
     "name": "stdout",
     "output_type": "stream",
     "text": [
      "0.9754\n"
     ]
    }
   ],
   "source": [
    "print(sess.run(accuracy, feed_dict={x: mnist.test.images, label:mnist.test.labels}))\n",
    "sess.close()"
   ]
  },
  {
   "cell_type": "code",
   "execution_count": null,
   "metadata": {
    "collapsed": true
   },
   "outputs": [],
   "source": []
  }
 ],
 "metadata": {
  "kernelspec": {
   "display_name": "Python 3",
   "language": "python",
   "name": "python3"
  },
  "language_info": {
   "codemirror_mode": {
    "name": "ipython",
    "version": 3
   },
   "file_extension": ".py",
   "mimetype": "text/x-python",
   "name": "python",
   "nbconvert_exporter": "python",
   "pygments_lexer": "ipython3",
   "version": "3.5.2"
  }
 },
 "nbformat": 4,
 "nbformat_minor": 2
}
