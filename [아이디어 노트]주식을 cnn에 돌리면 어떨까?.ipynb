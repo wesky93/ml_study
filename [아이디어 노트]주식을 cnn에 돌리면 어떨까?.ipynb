{
 "cells": [
  {
   "cell_type": "markdown",
   "metadata": {},
   "source": [
    "각 틱의 거래금액,거래 주식수, 거래량/전체주식수등으로  1*하루 거래량*3으로 해서 1*3필터를 씌워 cnn을 돌리면 해당 일자의 최종 금액을 알 수 있지 않을까?"
   ]
  }
 ],
 "metadata": {
  "kernelspec": {
   "display_name": "Python 3",
   "language": "python",
   "name": "python3"
  },
  "language_info": {
   "codemirror_mode": {
    "name": "ipython",
    "version": 3
   },
   "file_extension": ".py",
   "mimetype": "text/x-python",
   "name": "python",
   "nbconvert_exporter": "python",
   "pygments_lexer": "ipython3",
   "version": "3.5.2"
  }
 },
 "nbformat": 4,
 "nbformat_minor": 2
}
