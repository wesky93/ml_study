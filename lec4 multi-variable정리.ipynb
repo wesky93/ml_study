{
 "cells": [
  {
   "cell_type": "markdown",
   "metadata": {},
   "source": [
    "# Multi-variable\n",
    "one-variable에서 좀더 정확도 높은 모델을 구하기 위하여 의미 있는 변수를 추가 하기위함\n",
    "\n",
    "---\n",
    "\n",
    "## 1. Hypothesis\n",
    "\n",
    "one-variable의 hypothesis가 아래와 같을 경우\n",
    "$$H({ x })={ w }{ x }+b$$\n",
    "Multi-variable는 이렇게 된다.\n",
    "$$H({ x }_{ 1 },{ x }_{ 2 },{ x }_{ 3 })={ w }_{ 1 }{ x }_{ 1 }+{ w }_{ 2 }{ x }_{ 2 }+{ w }_{ 3 }{ x }_{ 3 }+b$$\n",
    "\n",
    "---\n",
    "\n",
    "### 1.1 행렬을 이용하여 단순화\n",
    "위의 공식은 변수가 많아질수록 매우 복잡해 보이므로 행렬의 특성을 이용하여 단순화 시킬수 있다.\n",
    "일반적으로 행렬의 곱할경우 아래와 같은 모습을 보인다.\n",
    "$$\\begin{bmatrix} 1 & 2 & 3 \\end{bmatrix}\\times \\begin{bmatrix} 1 \\\\ 2 \\\\ 3 \\end{bmatrix}=1\\times 1+2\\times 2+3\\times 3$$\n",
    "이것을 Hypothesis에 적용 시키면\n",
    "$$\\begin{bmatrix} { w }_{ 1 } & { w }_{ 2 } & { w }_{ 3 } \\end{bmatrix}\\times \\begin{bmatrix} { x }_{ 1 } \\\\ { x }_{ 2 } \\\\ { x }_{ 3 } \\end{bmatrix}+b={ w }_{ 1 }{ x }_{ 1 }+{ w }_{ 2 }{ x }_{ 2 }+{ w }_{ 3 }{ x }_{ 3 }+b$$\n",
    "여기에 추가로 b도 행렬에 포함시키면 이렇게 단순화 시킬수 있다.\n",
    "$$\\begin{bmatrix} b & { w }_{ 1 } & { w }_{ 2 } & { w }_{ 3 } \\end{bmatrix}\\times \\begin{bmatrix} 1 \\\\ { x }_{ 1 } \\\\ { x }_{ 2 } \\\\ { x }_{ 3 } \\end{bmatrix}={ w }_{ 1 }{ x }_{ 1 }+{ w }_{ 2 }{ x }_{ 2 }+{ w }_{ 3 }{ x }_{ 3 }+b$$\n",
    "p.s. 행렬의 트랜스폼을 이용하여 4*1행렬을 1*4행렬로 표시한뒤 끝에 T를 붙이는 경우가 있음\n",
    "$${ \\begin{bmatrix} b \\\\ { w }_{ 1 } \\\\ { w }_{ 2 } \\\\ { w }_{ 3 } \\end{bmatrix} }^{ T }\\times \\begin{bmatrix} 1 \\\\ { x }_{ 1 } \\\\ { x }_{ 2 } \\\\ { x }_{ 3 } \\end{bmatrix}=\\begin{bmatrix} b & { w }_{ 1 } & { w }_{ 2 } & { w }_{ 3 } \\end{bmatrix}\\times \\begin{bmatrix} 1 \\\\ { x }_{ 1 } \\\\ { x }_{ 2 } \\\\ { x }_{ 3 } \\end{bmatrix}$$"
   ]
  },
  {
   "cell_type": "code",
   "execution_count": null,
   "metadata": {
    "collapsed": true
   },
   "outputs": [],
   "source": []
  }
 ],
 "metadata": {
  "kernelspec": {
   "display_name": "Python 3",
   "language": "python",
   "name": "python3"
  },
  "language_info": {
   "codemirror_mode": {
    "name": "ipython",
    "version": 3
   },
   "file_extension": ".py",
   "mimetype": "text/x-python",
   "name": "python",
   "nbconvert_exporter": "python",
   "pygments_lexer": "ipython3",
   "version": "3.5.2"
  }
 },
 "nbformat": 4,
 "nbformat_minor": 2
}
