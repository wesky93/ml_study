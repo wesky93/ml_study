{
 "cells": [
  {
   "cell_type": "markdown",
   "metadata": {},
   "source": [
    "# Logistic Hypothesis\n",
    "기다 아니다(0,1)로 판단 할 수 있게 해주는 가설\n",
    "선형함수를 그래프에 그리면 단일 선이 나오는 것을 알 수 있다.\n",
    "하지만 이를 이용해서는 특정 데이터에 대한 bool판단을 하기 힘들기 때문에 선형함수를 로지스틱 회귀분석에 투입함으로써 0,1판단을 하게 하는 방식이다.\n",
    "주로 스팸인지 햄인지, 맞는 건지 틀린건지등을 판단하기 위한 목적으로 사용됨\n",
    "정확하게는 시그모어 함수가 x에 따라 0혹은 1에 가까운 그래프를 생성해주는데 이를 이용하여 선형함수로 나온 결과를 긴지 아닌지 표시해주는 것이다.\n",
    "\n",
    "### 시그모이드 함수\n",
    "시그모이드 함수의 특징은 무슨 값을 넣더라도 1혹은 0에 근접한 값으로 보여주는 특징이 있다.\n",
    "$$g(z)=\\frac{1}{(1+e^{-z})}$$\n",
    "여기 z에 무슨 값을 넣더라도 0 혹은 1에 근접하는 그래프를 그려준다.\n",
    "그래서 z에 선형함수를 넣을경우 선형함수의 결과를 0,1 분류해줄 수 있다.\n",
    "$$H(X)=\\frac{1}{1+e^{-W^{T}X}}$$\n",
    " \n",
    "### cost 함수\n",
    "진짜.. 수학자들에게 경의를 표합니다..\n",
    "이전 선형함수의 cost함수를 로지스틱 회귀분석에 적용시킨다면 매번 다른 결과를 얻는 처참한 실패를 맛봐야 할것이다.\n",
    "단순 선형이 아닌 시그모이드 함수이기 때문에 그래프가 바운스를 하기 때문이다.\n",
    "그래서 이를 해결 하기 위하여 y가 1일때와 y가 0일때의 코스트 함수를 각각 만들어줘야 한다.\n",
    "$$cost(W) = \\frac{1}{m}\\sum c(H(x),y)$$\n",
    "위가 로지스틱 회귀분석을 위한 cost함수로 좀더 자세히 보면 아래와 같다.\n",
    "$$c(H(x),y)=\\begin{cases}\n",
    "-log(H(x)) & :y=1\\\\\n",
    "-log(1-H(x)) & :y=0\n",
    "\\end{cases}$$\n",
    "각각 y가 0일때와 1일때의 cost함수로 로그를 이용하여 0 혹은 1에 가까워 질수록 cost가 최소화 될수 있게 해준다.\n",
    "이것을 프로그래밍 하기 쉽게 약간의 기교를 더하여 하나의 식으로 표현하면 아래와 같다. 실질적으로 텐서플로우에 아래 식만 적용하면 cost함수를 계산 할 수 있다.\n",
    "$$ c(H(x),y)=-ylog(H(x))-(1-y)log(1-H(x))$$\n",
    "위 식을 잘 살펴보면 y가 1이냐 0이냐에 따라 자동으로 다른 cost함수를 적용시키는 마술을 볼 수 있다.\n",
    "\n",
    "### minimise cost\n",
    "이제 위의 cost함수를 통하여 경사하강법으로 cost를 minimise시킬수 있게 되었다. 그래서 cost함수를 프로그래밍으로 풀어 쓰기만 하면 이전 선형함수처럼 똑같은 과정으로 간단하기 minimise 시킬 수 있다.\n"
   ]
  },
  {
   "cell_type": "code",
   "execution_count": null,
   "metadata": {
    "collapsed": true
   },
   "outputs": [],
   "source": []
  }
 ],
 "metadata": {
  "kernelspec": {
   "display_name": "Python 3",
   "language": "python",
   "name": "python3"
  },
  "language_info": {
   "codemirror_mode": {
    "name": "ipython",
    "version": 3
   },
   "file_extension": ".py",
   "mimetype": "text/x-python",
   "name": "python",
   "nbconvert_exporter": "python",
   "pygments_lexer": "ipython3",
   "version": "3.5.2"
  }
 },
 "nbformat": 4,
 "nbformat_minor": 2
}
